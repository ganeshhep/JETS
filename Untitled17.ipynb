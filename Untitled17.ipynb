{
 "cells": [
  {
   "cell_type": "markdown",
   "metadata": {
    "button": false,
    "new_sheet": false,
    "run_control": {
     "read_only": false
    }
   },
   "source": [
    "<!--BOOK_INFORMATION-->\n",
    "<img align=\"left\" style=\"padding-right:10px;\" src=\"images/book_cover.jpg\" width=\"120\">\n",
    "\n",
    "*This notebook contains an excerpt from the [Python Programming and Numerical Methods - A Guide for Engineers and Scientists](https://www.elsevier.com/books/python-programming-and-numerical-methods/kong/978-0-12-819549-9), the content is also available at [Berkeley Python Numerical Methods](https://pythonnumericalmethods.berkeley.edu/notebooks/Index.html).*\n",
    "\n",
    "*The copyright of the book belongs to Elsevier. We also have this interactive book online for a better learning experience. The code is released under the [MIT license](https://opensource.org/licenses/MIT). If you find this content useful, please consider supporting the work on [Elsevier](https://www.elsevier.com/books/python-programming-and-numerical-methods/kong/978-0-12-819549-9) or [Amazon](https://www.amazon.com/Python-Programming-Numerical-Methods-Scientists/dp/0128195495/ref=sr_1_1?dchild=1&keywords=Python+Programming+and+Numerical+Methods+-+A+Guide+for+Engineers+and+Scientists&qid=1604761352&sr=8-1)!*"
   ]
  },
  {
   "cell_type": "markdown",
   "metadata": {
    "button": false,
    "new_sheet": false,
    "run_control": {
     "read_only": false
    }
   },
   "source": [
    "<!--NAVIGATION-->\n",
    "< [22.1 ODE Initial Value Problem Statement](chapter22.01-ODE-Initial-Value-Problem-Statement.ipynb) | [Contents](Index.ipynb) | [22.3 The Euler Method](chapter22.03-The-Euler-Method.ipynb) >"
   ]
  },
  {
   "cell_type": "markdown",
   "metadata": {
    "button": false,
    "new_sheet": false,
    "run_control": {
     "read_only": false
    }
   },
   "source": [
    "# Reduction of Order"
   ]
  },
  {
   "cell_type": "markdown",
   "metadata": {
    "button": false,
    "new_sheet": false,
    "run_control": {
     "read_only": false
    }
   },
   "source": [
    "Many numerical methods for solving initial value problems are designed specifically to solve first-order differential equations. To make these solvers useful for solving higher order differential equations, we must often **reduce the order** of the differential equation to first order. To reduce the order of a differential equation, consider a vector, $S(t)$, which is the **state** of the system as a function of time. In general, the state of a system is a collection of all the dependent variables that are relevant to the behavior of the system. Recalling that the ODEs of interest in this book can be expressed as\n",
    "\n",
    "$$\n",
    "f^{(n)}(t) = F\\left(t, f(t), f^{(1)}(t), f^{(2)}(t), f^{(3)}(t),\\ldots, f^{(n-1)}(t)\\right),\n",
    "$$\n",
    "\n",
    "for initial value problems, it is useful to take the state to be\n",
    "\n",
    "$$\n",
    "S(t) =\\left[\\begin{array}{c}\n",
    "f(t) \\\\\n",
    "f^{(1)}(t) \\\\\n",
    "f^{(2)}(t) \\\\\n",
    "f^{(3)}(t) \\\\\n",
    "\\cdots \\\\\n",
    "f^{(n-1)}(t)\n",
    "\\end{array}\\right].\n",
    "$$\n",
    "\n",
    "Then the derivative of the state is\n",
    "\n",
    "$$\n",
    "\\frac{dS(t)}{dt} =\\!\\left[\\begin{array}{c}\n",
    "f^{(1)}(t) \\\\\n",
    "f^{(2)}(t) \\\\\n",
    "f^{(3)}(t) \\\\\n",
    "f^{(4)}(t) \\\\\n",
    "\\cdots \\\\\n",
    "f^{(n)}(t)\n",
    "\\end{array}\\right]\\!=\\!\\left[\\begin{array}{c}\n",
    "f^{(1)}(t) \\\\\n",
    "f^{(2)}(t) \\\\\n",
    "f^{(3)}(t) \\\\\n",
    "f^{(4)}(t) \\\\\n",
    "\\cdots \\\\\n",
    "F\\left(t, f(t), f^{(1)}(t),\\ldots, f^{(n-1)}(t)\\right)\n",
    "\\end{array}\\right]\\!=\\!\\left[\\begin{array}{c}\n",
    "S_2(t) \\\\\n",
    "S_3(t) \\\\\n",
    "S_4(t) \\\\\n",
    "S_5(t) \\\\\n",
    "\\cdots \\\\\n",
    "F\\left(t, S_1(t), S_2(t),\\ldots, S_{n-1}(t)\\right)\n",
    "\\end{array}\\right]\\!,\n",
    "$$\n",
    "\n",
    "where $S_i(t)$ is the $i^{\\mathrm{th}}$ element of $S(t)$. With the state written in this way, $\\frac{dS(t)}{dt}$ can be written using only $S(t)$ (i.e., no $f(t)$) or its derivatives. In particular, $\\frac{dS(t)}{dt} = {\\mathcal{F}}(t,S(t))$, where ${\\mathcal{F}}$ is a function that appropriately assembles the vector describing the derivative of the state. This equation is in the form of a first-order differential equation in $S$. Essentially, what we have done is turn an $n^{\\mathrm{th}}$ order ODE into $n$ first order ODEs that are **coupled** together, meaning they share the same terms."
   ]
  },
  {
   "cell_type": "markdown",
   "metadata": {
    "button": false,
    "new_sheet": false,
    "run_control": {
     "read_only": false
    }
   },
   "source": [
    "**TRY IT!** Reduce the second order pendulum equation to first order, where\n",
    "\n",
    "$$\n",
    "S(t) =\\left[\\begin{array}{c}\n",
    "\\Theta(t) \\\\\n",
    "\\dot{\\Theta}(t)\n",
    "\\end{array}\\right].\n",
    "$$\n",
    "\n",
    "Taking the derivative of $S(t)$ and substituting gives the correct expression.\n",
    "\n",
    "$$\n",
    "\\frac{dS(t)}{dt} =\\left[\\begin{array}{c}\n",
    "S_2(t) \\\\\n",
    "-\\frac{g}{l}S_1(t)\n",
    "\\end{array}\\right]\n",
    "$$\n",
    "\n",
    "It happens that this ODE can be written in matrix form:\n",
    "\n",
    "$$\n",
    "\\frac{dS(t)}{dt} =\\left[\\begin{array}{cc}\n",
    "0 & 1 \\\\\n",
    "-\\frac{g}{l} & 0\n",
    "\\end{array}\\right]S(t)\n",
    "$$\n",
    "\n",
    "ODEs that can be written in this way are said to be **linear ODEs**."
   ]
  },
  {
   "cell_type": "markdown",
   "metadata": {
    "button": false,
    "new_sheet": false,
    "run_control": {
     "read_only": false
    }
   },
   "source": [
    "Although reducing the order of an ODE to first order results in an ODE with multiple variables, all the derivatives are still taken with respect to the same independent variable, $t$. Therefore, the ordinariness of the differential equation is retained.\n",
    "\n",
    "It is worth noting that the state can hold multiple dependent variables and their derivatives as long as the derivatives are with respect to the same independent variable."
   ]
  },
  {
   "cell_type": "markdown",
   "metadata": {
    "button": false,
    "new_sheet": false,
    "run_control": {
     "read_only": false
    }
   },
   "source": [
    "**TRY IT!** A very simple model to describe the change in population of rabbits, $r(t)$, and wolves, $w(t)$, might be\n",
    "\n",
    "$$\n",
    "\\frac{dr(t)}{dt} = 4r(t) - 2w(t)\n",
    "$$\n",
    "\n",
    "and\n",
    "\n",
    "$$\n",
    "\\frac{dw(t)}{dt} = r(t) + w(t).\n",
    "$$\n",
    "\n",
    "The first ODE says that at each time step, the rabbit population multiplies by 4, but each wolf eats two of the rabbits. The second ODE says that at each time step, the population of wolves increases by the number of rabbits and wolves in the system. Write this system of differential equations as an equivalent differential equation in $S(t)$ where\n",
    "\n",
    "$$\n",
    "S(t) =\\left[\\begin{array}{c}\n",
    "r(t) \\\\\n",
    "w(t)\n",
    "\\end{array}\\right].\n",
    "$$\n",
    "\n",
    "The following first-order ODE is equivalent to the pair of ODEs.\n",
    "\n",
    "$$\n",
    "\\frac{dS(t)}{dt} = \\left[\\begin{array}{cc}\n",
    "4 & -2 \\\\\n",
    "1 & 1\n",
    "\\end{array}\\right]S(t).\n",
    "$$"
   ]
  },
  {
   "cell_type": "markdown",
   "metadata": {
    "button": false,
    "new_sheet": false,
    "run_control": {
     "read_only": false
    }
   },
   "source": [
    "<!--NAVIGATION-->\n",
    "< [22.1 ODE Initial Value Problem Statement](chapter22.01-ODE-Initial-Value-Problem-Statement.ipynb) | [Contents](Index.ipynb) | [22.3 The Euler Method](chapter22.03-The-Euler-Method.ipynb) >"
   ]
  }
 ],
 "metadata": {
  "kernelspec": {
   "display_name": "Python 3",
   "language": "python",
   "name": "python3"
  },
  "language_info": {
   "codemirror_mode": {
    "name": "ipython",
    "version": 3
   },
   "file_extension": ".py",
   "mimetype": "text/x-python",
   "name": "python",
   "nbconvert_exporter": "python",
   "pygments_lexer": "ipython3",
   "version": "3.6.8"
  }
 },
 "nbformat": 4,
 "nbformat_minor": 2
}
{
 "cells": [
  {
   "cell_type": "markdown",
   "metadata": {
    "button": false,
    "new_sheet": false,
    "run_control": {
     "read_only": false
    }
   },
   "source": [
    "<!--BOOK_INFORMATION-->\n",
    "<img align=\"left\" style=\"padding-right:10px;\" src=\"images/book_cover.jpg\" width=\"120\">\n",
    "\n",
    "*This notebook contains an excerpt from the [Python Programming and Numerical Methods - A Guide for Engineers and Scientists](https://www.elsevier.com/books/python-programming-and-numerical-methods/kong/978-0-12-819549-9), the content is also available at [Berkeley Python Numerical Methods](https://pythonnumericalmethods.berkeley.edu/notebooks/Index.html).*\n",
    "\n",
    "*The copyright of the book belongs to Elsevier. We also have this interactive book online for a better learning experience. The code is released under the [MIT license](https://opensource.org/licenses/MIT). If you find this content useful, please consider supporting the work on [Elsevier](https://www.elsevier.com/books/python-programming-and-numerical-methods/kong/978-0-12-819549-9) or [Amazon](https://www.amazon.com/Python-Programming-Numerical-Methods-Scientists/dp/0128195495/ref=sr_1_1?dchild=1&keywords=Python+Programming+and+Numerical+Methods+-+A+Guide+for+Engineers+and+Scientists&qid=1604761352&sr=8-1)!*"
   ]
  },
  {
   "cell_type": "markdown",
   "metadata": {
    "button": false,
    "new_sheet": false,
    "run_control": {
     "read_only": false
    }
   },
   "source": [
    "<!--NAVIGATION-->\n",
    "< [CHAPTER 22. Ordinary Differential Equations (ODEs): Initial-Value Problems](chapter22.00-ODE-Initial-Value-Problems.ipynb) | [Contents](Index.ipynb) | [22.2 Reduction of Order](chapter22.02-Reduction-of-Order.ipynb) >"
   ]
  },
  {
   "cell_type": "markdown",
   "metadata": {
    "button": false,
    "new_sheet": false,
    "run_control": {
     "read_only": false
    }
   },
   "source": [
    "# ODE Initial Value Problem Statement"
   ]
  },
  {
   "cell_type": "markdown",
   "metadata": {
    "button": false,
    "new_sheet": false,
    "run_control": {
     "read_only": false
    }
   },
   "source": [
    "A **differential equation** is a relationship between a function, $f(x)$, its independent variable, $x$, and any number of its derivatives. An **ordinary differential equation** or **ODE** is a differential equation where the independent variable, and therefore also the derivatives, is in one dimension. For the purpose of this book, we assume that an ODE can be written\n",
    "\n",
    "$$\n",
    "F\\left(x, f(x), \\frac{df(x)}{dx}, \\frac{d^2f(x)}{dx^2}, \\frac{d^3f(x)}{dx^3}, \\ldots, \\frac{d^{n-1}f(x)}{dx^{n-1}}\\right) = \\frac{d^{n}f(x)}{dx^{n}},\n",
    "$$\n",
    "\n",
    "where $F$ is an arbitrary function that incorporates one or all of the input arguments, and $n$ is the **order** of the differential equation. This equation is referred to as an **$n^{\\mathrm{th}}$ order ODE**.\n",
    "\n",
    "\n",
    "<img src=\"images/22.01.01-pendulum.png\" alt=\"Pendulum system\" title=\"Pendulum system.\" width=\"200\"/>\n",
    "\n",
    "To give an example of an ODE, consider a pendulum of length $l$ with a mass, $m$, at its end (see the figure above). The angle the pendulum makes with the vertical axis over time, $\\Theta(t)$, in the presence of vertical gravity, $g$, can be described by the pendulum equation, which is the ODE\n",
    "\n",
    "$$\n",
    "ml\\frac{d^2\\Theta(t)}{dt^2} = -mg \\sin(\\Theta(t)).\n",
    "$$\n",
    "\n",
    "This equation can be derived by summing the forces in the $x$ and $y$ direction, and then changing to polar coordinates.\n",
    "\n",
    "In contrast, a **partial differential equation** or **PDE** is a general form differential equation where $x$ is a vector containing the independent variables $x_1, x_2, x_3, \\ldots, x_m$, and the partial derivatives can be of any order and with respect to any combination of variables. An example of a PDE is the heat equation, which describes the evolution of temperature in space over time:\n",
    "\n",
    "$$\n",
    "\\frac{\\partial u(t, x, y, z)}{\\partial t} = \\alpha\\left(\\frac{\\partial u(t, x, y, z)}{\\partial x} + \\frac{\\partial u(t, x, y, z)}{\\partial y} + \\frac{\\partial u(t, x, y, z)}{\\partial z}\\right).\n",
    "$$\n",
    "\n",
    "Here, $u(t, x, y, z)$ is the temperature at $(x,y,z)$ at time $t$, and $\\alpha$ is a thermal diffusion constant.\n",
    "\n",
    "A **general solution** to a differential equation is a $g(x)$ that satisfies the differential equation. Although there are usually many solutions to a differential equation, they are still hard to find. For an ODE of order $n$, a **particular solution** is a $p(x)$ that satisfies the differential equation *and n* explicitly **known values** of the solution, or its derivatives, at certain points. Generally stated, $p(x)$ must satisfy the differential equation and $p^{(j)}(x_i) = p_i$, where $p^{(j)}$ is the $j^{\\mathrm{th}}$ derivative of $p$, for $n$ triplets, $(j, x_i, p_i)$. For the purpose of this text, we refer to the particular solution simply as the **solution**.\n",
    "\n",
    "**TRY IT!** Returning to the pendulum example, if we assume the angles are very small (i.e., $\\sin(\\Theta(t)) \\approx \\Theta(t)$), then the pendulum equation reduces to\n",
    "\n",
    "$$\n",
    "l\\frac{d^2\\Theta(t)}{dt^2} = -g\\Theta(t).\n",
    "$$\n",
    "\n",
    "Verify that $\\Theta(t) = \\cos\\left(\\sqrt{\\frac{g}{l}}t\\right)$ is a general solution to the pendulum equation. If the angle and angular velocities at $t = 0$ are the known values, $\\Theta_0$ and 0, respectively, verify that $\\Theta(t) = \\Theta_0\\cos\\left(\\sqrt{\\frac{g}{l}}t\\right)$ is a particular solution for these known values.\n",
    "\n",
    "For the general solution, the derivatives of $\\Theta(t)$ are\n",
    "\n",
    "$$\n",
    "\\frac{d\\Theta(t)}{dt} = -\\sqrt{\\frac{g}{l}}\\sin\\left(\\sqrt{\\frac{g}{l}}t\\right)\n",
    "$$\n",
    "\n",
    "and\n",
    "\n",
    "$$\n",
    "\\frac{d^2\\Theta(t)}{dt^2} = -\\frac{g}{l}\\cos\\left(\\sqrt{\\frac{g}{l}}t\\right).\n",
    "$$\n",
    "\n",
    "By plugging the second derivative back into the differential equation on the left side, it is easy to verify that $\\Theta(t)$ satisfies the equation and so is a general solution.\n",
    "\n",
    "For the particular solution, the $\\Theta_0$ coefficient will carry through the derivatives, and it can be verified that the equation is satisfied. $\\Theta(0) = \\Theta_0 \\cos(0) = \\Theta_0$, and $0 = -\\Theta_0 \\sqrt{\\frac{g}{l}}\\sin(0) = 0$, therefore the particular solution also satisfies the known values.\n",
    "\n",
    "A pendulum swinging at small angles is a very uninteresting pendulum indeed. Unfortunately, there is no explicit solution for the pendulum equation with large angles that is as simple algebraically. Since this system is much simpler than most practical engineering systems and has no obvious analytic solution, the need for numerical solutions to ODEs is clear.\n",
    "\n",
    "\n",
    "A common set of known values for an ODE solution is the **initial value**. For an ODE of order $n$, the initial value is a known value for the $0^{\\mathrm{th}}$ to $(n-1)^{\\mathrm{th}}$ derivatives at $x = 0, f(0), f^{(1)}(0), f^{(2)}(0),\\ldots, f^{(n-1)}(0)$. For a certain class of ordinary differential equations, the initial value is sufficient to find a unique particular solution. Finding a solution to an ODE given an initial value is called the **initial value problem**. Although the name suggests we will only cover ODEs that evolve in time, initial value problems can also include systems that evolve in other dimensions such as space. Intuitively, the pendulum equation can be solved as an initial value problem because under only the force of gravity, an initial position and velocity should be sufficient to describe the motion of the pendulum for all time afterward.\n",
    "\n",
    "The remainder of this chapter covers several methods of numerically approximating the solution to initial value problems on a numerical grid. Although initial value problems encompass more than just differential equations in time, we use time as the independent variable. We also use several notations for the derivative of $f(t): f^{\\prime}(t), f^{(1)}(t), \\frac{df(t)}{dt}$, and $\\dot{f}$, whichever is most convenient for the context.\n"
   ]
  },
  {
   "cell_type": "markdown",
   "metadata": {
    "button": false,
    "new_sheet": false,
    "run_control": {
     "read_only": false
    }
   },
   "source": [
    "<!--NAVIGATION-->\n",
    "< [CHAPTER 22. Ordinary Differential Equations (ODEs): Initial-Value Problems](chapter22.00-ODE-Initial-Value-Problems.ipynb) | [Contents](Index.ipynb) | [22.2 Reduction of Order](chapter22.02-Reduction-of-Order.ipynb) >"
   ]
  }
 ],
 "metadata": {
  "kernelspec": {
   "display_name": "Python 3",
   "language": "python",
   "name": "python3"
  },
  "language_info": {
   "codemirror_mode": {
    "name": "ipython",
    "version": 3
   },
   "file_extension": ".py",
   "mimetype": "text/x-python",
   "name": "python",
   "nbconvert_exporter": "python",
   "pygments_lexer": "ipython3",
   "version": "3.6.8"
  }
 },
 "nbformat": 4,
 "nbformat_minor": 2
}
